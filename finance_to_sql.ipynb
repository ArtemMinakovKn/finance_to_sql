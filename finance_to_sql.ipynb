{
 "cells": [
  {
   "cell_type": "code",
   "execution_count": 2,
   "id": "3d15f386",
   "metadata": {},
   "outputs": [],
   "source": [
    "import yfinance as yf\n",
    "import pandas as pd\n",
    "import pyodbc\n",
    "import datetime"
   ]
  },
  {
   "cell_type": "code",
   "execution_count": null,
   "id": "55a68c79",
   "metadata": {},
   "outputs": [
    {
     "name": "stdout",
     "output_type": "stream",
     "text": [
      "✅ Успешное подключение к базе данных\n"
     ]
    }
   ],
   "source": [
    "# Connection parameters\n",
    "server = 'localhost\\\\SQLEXPRESS'   # Server name (as configured during installation)\n",
    "database = 'FinanceDB'             # Name of the database (must exist in SQL Server)\n",
    "connection_string = f\"\"\"\n",
    "DRIVER={{ODBC Driver 17 for SQL Server}};\n",
    "SERVER={server};\n",
    "DATABASE={database};\n",
    "Trusted_Connection=yes;\n",
    "\"\"\"\n",
    "\n",
    "# Try connecting to the database\n",
    "try:\n",
    "    conn = pyodbc.connect(connection_string)\n",
    "    cursor = conn.cursor()\n",
    "    print(\"✅ Successfully connected to the database\")\n",
    "except Exception as e:\n",
    "    print(\"❌ Connection error:\", e)\n"
   ]
  },
  {
   "cell_type": "code",
   "execution_count": null,
   "id": "b1a42cc8",
   "metadata": {},
   "outputs": [
    {
     "name": "stdout",
     "output_type": "stream",
     "text": [
      "YF.download() has changed argument auto_adjust default to True\n"
     ]
    },
    {
     "name": "stderr",
     "output_type": "stream",
     "text": [
      "[*********************100%***********************]  1 of 1 completed"
     ]
    },
    {
     "name": "stdout",
     "output_type": "stream",
     "text": [
      "🔽 Загружено строк: 1257\n"
     ]
    },
    {
     "name": "stderr",
     "output_type": "stream",
     "text": [
      "\n"
     ]
    },
    {
     "data": {
      "text/html": [
       "<div>\n",
       "<style scoped>\n",
       "    .dataframe tbody tr th:only-of-type {\n",
       "        vertical-align: middle;\n",
       "    }\n",
       "\n",
       "    .dataframe tbody tr th {\n",
       "        vertical-align: top;\n",
       "    }\n",
       "\n",
       "    .dataframe thead tr th {\n",
       "        text-align: left;\n",
       "    }\n",
       "</style>\n",
       "<table border=\"1\" class=\"dataframe\">\n",
       "  <thead>\n",
       "    <tr>\n",
       "      <th>Price</th>\n",
       "      <th>Date</th>\n",
       "      <th>Close</th>\n",
       "      <th>High</th>\n",
       "      <th>Low</th>\n",
       "      <th>Open</th>\n",
       "      <th>Volume</th>\n",
       "      <th>Ticker</th>\n",
       "    </tr>\n",
       "    <tr>\n",
       "      <th>Ticker</th>\n",
       "      <th></th>\n",
       "      <th>AAPL</th>\n",
       "      <th>AAPL</th>\n",
       "      <th>AAPL</th>\n",
       "      <th>AAPL</th>\n",
       "      <th>AAPL</th>\n",
       "      <th></th>\n",
       "    </tr>\n",
       "  </thead>\n",
       "  <tbody>\n",
       "    <tr>\n",
       "      <th>0</th>\n",
       "      <td>2020-01-02</td>\n",
       "      <td>72.620842</td>\n",
       "      <td>72.681289</td>\n",
       "      <td>71.373218</td>\n",
       "      <td>71.627092</td>\n",
       "      <td>135480400</td>\n",
       "      <td>AAPL</td>\n",
       "    </tr>\n",
       "    <tr>\n",
       "      <th>1</th>\n",
       "      <td>2020-01-03</td>\n",
       "      <td>71.914810</td>\n",
       "      <td>72.676439</td>\n",
       "      <td>71.689950</td>\n",
       "      <td>71.847110</td>\n",
       "      <td>146322800</td>\n",
       "      <td>AAPL</td>\n",
       "    </tr>\n",
       "    <tr>\n",
       "      <th>2</th>\n",
       "      <td>2020-01-06</td>\n",
       "      <td>72.487854</td>\n",
       "      <td>72.526541</td>\n",
       "      <td>70.783256</td>\n",
       "      <td>71.034717</td>\n",
       "      <td>118387200</td>\n",
       "      <td>AAPL</td>\n",
       "    </tr>\n",
       "    <tr>\n",
       "      <th>3</th>\n",
       "      <td>2020-01-07</td>\n",
       "      <td>72.146942</td>\n",
       "      <td>72.753823</td>\n",
       "      <td>71.926915</td>\n",
       "      <td>72.497529</td>\n",
       "      <td>108872000</td>\n",
       "      <td>AAPL</td>\n",
       "    </tr>\n",
       "    <tr>\n",
       "      <th>4</th>\n",
       "      <td>2020-01-08</td>\n",
       "      <td>73.307518</td>\n",
       "      <td>73.609752</td>\n",
       "      <td>71.849540</td>\n",
       "      <td>71.849540</td>\n",
       "      <td>132079200</td>\n",
       "      <td>AAPL</td>\n",
       "    </tr>\n",
       "  </tbody>\n",
       "</table>\n",
       "</div>"
      ],
      "text/plain": [
       "Price        Date      Close       High        Low       Open     Volume  \\\n",
       "Ticker                  AAPL       AAPL       AAPL       AAPL       AAPL   \n",
       "0      2020-01-02  72.620842  72.681289  71.373218  71.627092  135480400   \n",
       "1      2020-01-03  71.914810  72.676439  71.689950  71.847110  146322800   \n",
       "2      2020-01-06  72.487854  72.526541  70.783256  71.034717  118387200   \n",
       "3      2020-01-07  72.146942  72.753823  71.926915  72.497529  108872000   \n",
       "4      2020-01-08  73.307518  73.609752  71.849540  71.849540  132079200   \n",
       "\n",
       "Price  Ticker  \n",
       "Ticker         \n",
       "0        AAPL  \n",
       "1        AAPL  \n",
       "2        AAPL  \n",
       "3        AAPL  \n",
       "4        AAPL  "
      ]
     },
     "execution_count": 6,
     "metadata": {},
     "output_type": "execute_result"
    }
   ],
   "source": [
    "# Download parameters\n",
    "ticker = \"AAPL\"\n",
    "start_date = \"2020-01-01\"\n",
    "end_date = \"2024-12-31\"\n",
    "\n",
    "# Download data from Yahoo Finance\n",
    "df = yf.download(ticker, start=start_date, end=end_date)\n",
    "\n",
    "# Reset index to move 'Date' from index to column\n",
    "df.reset_index(inplace=True)\n",
    "\n",
    "# Add a Ticker column to identify the asset\n",
    "df[\"Ticker\"] = ticker\n",
    "\n",
    "# Preview and check how many rows were loaded\n",
    "print(\"🔽 Rows loaded:\", len(df))\n",
    "df.head()\n"
   ]
  },
  {
   "cell_type": "code",
   "execution_count": null,
   "id": "61bf04be",
   "metadata": {},
   "outputs": [
    {
     "name": "stderr",
     "output_type": "stream",
     "text": [
      "[*********************100%***********************]  1 of 1 completed"
     ]
    },
    {
     "name": "stdout",
     "output_type": "stream",
     "text": [
      "🔽 Загружено строк: 24469\n"
     ]
    },
    {
     "name": "stderr",
     "output_type": "stream",
     "text": [
      "\n"
     ]
    },
    {
     "data": {
      "text/html": [
       "<div>\n",
       "<style scoped>\n",
       "    .dataframe tbody tr th:only-of-type {\n",
       "        vertical-align: middle;\n",
       "    }\n",
       "\n",
       "    .dataframe tbody tr th {\n",
       "        vertical-align: top;\n",
       "    }\n",
       "\n",
       "    .dataframe thead th {\n",
       "        text-align: right;\n",
       "    }\n",
       "</style>\n",
       "<table border=\"1\" class=\"dataframe\">\n",
       "  <thead>\n",
       "    <tr style=\"text-align: right;\">\n",
       "      <th>Price</th>\n",
       "      <th>Date</th>\n",
       "      <th>Close</th>\n",
       "      <th>High</th>\n",
       "      <th>Low</th>\n",
       "      <th>Open</th>\n",
       "      <th>Volume</th>\n",
       "      <th>Ticker</th>\n",
       "    </tr>\n",
       "  </thead>\n",
       "  <tbody>\n",
       "    <tr>\n",
       "      <th>0</th>\n",
       "      <td>1927-12-30</td>\n",
       "      <td>17.660000</td>\n",
       "      <td>17.660000</td>\n",
       "      <td>17.660000</td>\n",
       "      <td>17.660000</td>\n",
       "      <td>0</td>\n",
       "      <td>^GSPC</td>\n",
       "    </tr>\n",
       "    <tr>\n",
       "      <th>1</th>\n",
       "      <td>1928-01-03</td>\n",
       "      <td>17.760000</td>\n",
       "      <td>17.760000</td>\n",
       "      <td>17.760000</td>\n",
       "      <td>17.760000</td>\n",
       "      <td>0</td>\n",
       "      <td>^GSPC</td>\n",
       "    </tr>\n",
       "    <tr>\n",
       "      <th>2</th>\n",
       "      <td>1928-01-04</td>\n",
       "      <td>17.719999</td>\n",
       "      <td>17.719999</td>\n",
       "      <td>17.719999</td>\n",
       "      <td>17.719999</td>\n",
       "      <td>0</td>\n",
       "      <td>^GSPC</td>\n",
       "    </tr>\n",
       "    <tr>\n",
       "      <th>3</th>\n",
       "      <td>1928-01-05</td>\n",
       "      <td>17.549999</td>\n",
       "      <td>17.549999</td>\n",
       "      <td>17.549999</td>\n",
       "      <td>17.549999</td>\n",
       "      <td>0</td>\n",
       "      <td>^GSPC</td>\n",
       "    </tr>\n",
       "    <tr>\n",
       "      <th>4</th>\n",
       "      <td>1928-01-06</td>\n",
       "      <td>17.660000</td>\n",
       "      <td>17.660000</td>\n",
       "      <td>17.660000</td>\n",
       "      <td>17.660000</td>\n",
       "      <td>0</td>\n",
       "      <td>^GSPC</td>\n",
       "    </tr>\n",
       "  </tbody>\n",
       "</table>\n",
       "</div>"
      ],
      "text/plain": [
       "Price       Date      Close       High        Low       Open  Volume Ticker\n",
       "0     1927-12-30  17.660000  17.660000  17.660000  17.660000       0  ^GSPC\n",
       "1     1928-01-03  17.760000  17.760000  17.760000  17.760000       0  ^GSPC\n",
       "2     1928-01-04  17.719999  17.719999  17.719999  17.719999       0  ^GSPC\n",
       "3     1928-01-05  17.549999  17.549999  17.549999  17.549999       0  ^GSPC\n",
       "4     1928-01-06  17.660000  17.660000  17.660000  17.660000       0  ^GSPC"
      ]
     },
     "execution_count": 16,
     "metadata": {},
     "output_type": "execute_result"
    }
   ],
   "source": [
    "# Download parameters\n",
    "ticker = \"^GSPC\"\n",
    "start_date = \"1900-01-01\"  # Earliest possible date\n",
    "end_date = None            # Up to the current date\n",
    "\n",
    "# Download data from Yahoo Finance\n",
    "df = yf.download(ticker, start=start_date)\n",
    "\n",
    "# Flatten column names in case a multi-index is returned\n",
    "if isinstance(df.columns, pd.MultiIndex):\n",
    "    df.columns = df.columns.get_level_values(0)\n",
    "\n",
    "# Reset index to make 'Date' a regular column\n",
    "df.reset_index(inplace=True)\n",
    "\n",
    "# Add a Ticker column to identify the asset\n",
    "df[\"Ticker\"] = ticker\n",
    "\n",
    "# Preview and check how many rows were loaded\n",
    "print(\"🔽 Rows loaded:\", len(df))\n",
    "df.head()"
   ]
  },
  {
   "cell_type": "code",
   "execution_count": null,
   "id": "376f18f4",
   "metadata": {},
   "outputs": [
    {
     "name": "stdout",
     "output_type": "stream",
     "text": [
      "✅ Новая таблица StockPrices создана\n"
     ]
    }
   ],
   "source": [
    "# Create a new table without the 'AdjClose' column\n",
    "create_table_query = \"\"\"\n",
    "CREATE TABLE StockPrices (\n",
    "    ID INT IDENTITY(1,1) PRIMARY KEY,\n",
    "    [Date] DATE,\n",
    "    [Open] FLOAT,\n",
    "    [High] FLOAT,\n",
    "    [Low] FLOAT,\n",
    "    [Close] FLOAT,\n",
    "    [Volume] BIGINT,\n",
    "    [Ticker] VARCHAR(10)\n",
    ");\n",
    "\"\"\"\n",
    "\n",
    "# Execute the query to create the table\n",
    "cursor.execute(create_table_query)\n",
    "conn.commit()\n",
    "\n",
    "print(\"✅ New table 'StockPrices' has been created\""
   ]
  },
  {
   "cell_type": "code",
   "execution_count": null,
   "id": "a5e1c117",
   "metadata": {},
   "outputs": [
    {
     "name": "stdout",
     "output_type": "stream",
     "text": [
      "✅ Данные успешно сохранены в новую таблицу\n"
     ]
    }
   ],
   "source": [
    "# SQL insert query for inserting data into the StockPrices table\n",
    "insert_query = \"\"\"\n",
    "INSERT INTO StockPrices ([Date], [Open], [High], [Low], [Close], [Volume], [Ticker])\n",
    "VALUES (?, ?, ?, ?, ?, ?, ?)\n",
    "\"\"\"\n",
    "\n",
    "# Loop through the DataFrame and insert each row into the database\n",
    "for _, row in df.iterrows():\n",
    "    cursor.execute(insert_query, (\n",
    "        row[\"Date\"], row[\"Open\"], row[\"High\"], row[\"Low\"],\n",
    "        row[\"Close\"], row[\"Volume\"], row[\"Ticker\"]\n",
    "    ))\n",
    "\n",
    "# Commit the transaction to save changes\n",
    "conn.commit()\n",
    "print(\"✅ Data successfully inserted into the StockPrices table\")"
   ]
  },
  {
   "cell_type": "code",
   "execution_count": null,
   "id": "67994173",
   "metadata": {},
   "outputs": [
    {
     "name": "stdout",
     "output_type": "stream",
     "text": [
      "✅ Данные загружены из базы:\n",
      "   ID        Date       Open       High        Low      Close  Volume Ticker\n",
      "0   1  1927-12-30  17.660000  17.660000  17.660000  17.660000       0  ^GSPC\n",
      "1   2  1928-01-03  17.760000  17.760000  17.760000  17.760000       0  ^GSPC\n",
      "2   3  1928-01-04  17.719999  17.719999  17.719999  17.719999       0  ^GSPC\n",
      "3   4  1928-01-05  17.549999  17.549999  17.549999  17.549999       0  ^GSPC\n",
      "4   5  1928-01-06  17.660000  17.660000  17.660000  17.660000       0  ^GSPC\n"
     ]
    },
    {
     "name": "stderr",
     "output_type": "stream",
     "text": [
      "C:\\Users\\m-a-a\\AppData\\Local\\Temp\\ipykernel_4660\\991572164.py:5: UserWarning: pandas only supports SQLAlchemy connectable (engine/connection) or database string URI or sqlite3 DBAPI2 connection. Other DBAPI2 objects are not tested. Please consider using SQLAlchemy.\n",
      "  df_sql = pd.read_sql(select_query, conn)\n"
     ]
    }
   ],
   "source": [
    "# SQL query to select all data from the StockPrices table ordered by date\n",
    "select_query = \"SELECT * FROM StockPrices ORDER BY [Date];\"\n",
    "\n",
    "# Execute the query and load the result into a DataFrame\n",
    "df_sql = pd.read_sql(select_query, conn)\n",
    "\n",
    "# Display confirmation and show the first few rows\n",
    "print(\"✅ Data successfully loaded from the database:\")\n",
    "print(df_sql.head())"
   ]
  },
  {
   "cell_type": "code",
   "execution_count": null,
   "id": "3f001a47",
   "metadata": {},
   "outputs": [],
   "source": [
    "# SQL query to drop the StockPrices table if it exists\n",
    "drop_table_query = \"IF OBJECT_ID('StockPrices', 'U') IS NOT NULL DROP TABLE StockPrices;\"\n",
    "\n",
    "# Execute the drop table query\n",
    "cursor.execute(drop_table_query)\n",
    "conn.commit()\n",
    "\n",
    "print(\"🗑️ Table 'StockPrices' has been dropped (if it existed)\")"
   ]
  }
 ],
 "metadata": {
  "kernelspec": {
   "display_name": "Python 3",
   "language": "python",
   "name": "python3"
  },
  "language_info": {
   "codemirror_mode": {
    "name": "ipython",
    "version": 3
   },
   "file_extension": ".py",
   "mimetype": "text/x-python",
   "name": "python",
   "nbconvert_exporter": "python",
   "pygments_lexer": "ipython3",
   "version": "3.13.3"
  }
 },
 "nbformat": 4,
 "nbformat_minor": 5
}
